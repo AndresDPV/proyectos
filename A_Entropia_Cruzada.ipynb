{
 "cells": [
  {
   "cell_type": "markdown",
   "metadata": {},
   "source": [
    "Entropía Cruzada"
   ]
  },
  {
   "cell_type": "code",
   "execution_count": 4,
   "metadata": {},
   "outputs": [
    {
     "name": "stdout",
     "output_type": "stream",
     "text": [
      "H(P, Q):  5.0246796205822974 bits\n",
      "H(Q, P):  5.960218150044636 bits\n"
     ]
    }
   ],
   "source": [
    "# Importar la librería numpy y pandas\n",
    "import numpy as np\n",
    "import pandas as pd\n",
    "\n",
    "# Importar la función log2 desde la librería math\n",
    "from math import log2\n",
    "\n",
    "# Definir una función para calcular la entropía cruzada entre dos distribuciones de probabilidad\n",
    "def entropia_cruzada(p,q):\n",
    "    # Calcular la entropía cruzada utilizando una comprensión de listas\n",
    "    return -sum([p[i]*log2(q[i]) for i in range(len(p))])\n",
    "\n",
    "# Definir dos listas de valores para las distribuciones de probabilidad\n",
    "p = [0.1, 0.4, 0.5,0.32,0.43,0.76,0.87,0.91,0.61,0.9]\n",
    "q = [0.8, 0.15, 0.5,0.4,0.7,0.9,0.5,0.8,0.65,0.43]\n",
    "\n",
    "# Calcular la entropía cruzada entre las dos distribuciones de probabilidad\n",
    "ce_pq = entropia_cruzada(p, q)\n",
    "# Imprimir el resultado de la entropía cruzada H(P, Q)\n",
    "print('H(P, Q): ', ce_pq, 'bits')\n",
    "# Calcular la entropía cruzada entre las dos distribuciones de probabilidad pero intercambiando las posiciones\n",
    "ce_qp = entropia_cruzada(q, p)\n",
    "# Imprimir el resultado de la entropía cruzada H(Q, P)\n",
    "print('H(Q, P): ', ce_qp, 'bits')\n"
   ]
  }
 ],
 "metadata": {
  "kernelspec": {
   "display_name": "Python 3",
   "language": "python",
   "name": "python3"
  },
  "language_info": {
   "codemirror_mode": {
    "name": "ipython",
    "version": 3
   },
   "file_extension": ".py",
   "mimetype": "text/x-python",
   "name": "python",
   "nbconvert_exporter": "python",
   "pygments_lexer": "ipython3",
   "version": "3.11.1"
  },
  "orig_nbformat": 4,
  "vscode": {
   "interpreter": {
    "hash": "92e93fd99677447a36819619535bb8b74b4f1e81af49650ffe9f238af256f6fd"
   }
  }
 },
 "nbformat": 4,
 "nbformat_minor": 2
}
