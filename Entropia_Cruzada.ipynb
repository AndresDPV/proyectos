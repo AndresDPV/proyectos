{
 "cells": [
  {
   "attachments": {},
   "cell_type": "markdown",
   "metadata": {},
   "source": [
    " # ENTROPIA_CRUZADA\n",
    " "
   ]
  },
  {
   "cell_type": "code",
   "execution_count": 13,
   "metadata": {},
   "outputs": [],
   "source": [
    "import numpy as np\n",
    "import pandas as pd\n",
    "from math import log2\n",
    "\n",
    "\n"
   ]
  },
  {
   "cell_type": "code",
   "execution_count": 16,
   "metadata": {},
   "outputs": [],
   "source": [
    "def entropia_cruzada(p,q):\n",
    "    return -sum([p[i]*log2(q[i]) for i in range(len(p))])\n"
   ]
  },
  {
   "cell_type": "code",
   "execution_count": 17,
   "metadata": {},
   "outputs": [
    {
     "name": "stdout",
     "output_type": "stream",
     "text": [
      "H(P, Q):  5.0246796205822974 bits\n",
      "H(Q, P):  5.960218150044636 bits\n"
     ]
    }
   ],
   "source": [
    "p = [0.1, 0.4, 0.5,0.32,0.43,0.76,0.87,0.91,0.61,0.9]\n",
    "q = [0.8, 0.15, 0.5,0.4,0.7,0.9,0.5,0.8,0.65,0.43]\n",
    "\n",
    "\n",
    "ce_pq = entropia_cruzada(p, q)\n",
    "print('H(P, Q): ', ce_pq, 'bits')\n",
    "ce_qp = entropia_cruzada(q, p)\n",
    "print('H(Q, P): ', ce_qp, 'bits')"
   ]
  }
 ],
 "metadata": {
  "kernelspec": {
   "display_name": "Python 3",
   "language": "python",
   "name": "python3"
  },
  "language_info": {
   "codemirror_mode": {
    "name": "ipython",
    "version": 3
   },
   "file_extension": ".py",
   "mimetype": "text/x-python",
   "name": "python",
   "nbconvert_exporter": "python",
   "pygments_lexer": "ipython3",
   "version": "3.10.0"
  },
  "orig_nbformat": 4,
  "vscode": {
   "interpreter": {
    "hash": "92e93fd99677447a36819619535bb8b74b4f1e81af49650ffe9f238af256f6fd"
   }
  }
 },
 "nbformat": 4,
 "nbformat_minor": 2
}
